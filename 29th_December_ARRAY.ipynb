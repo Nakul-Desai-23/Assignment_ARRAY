{
 "cells": [
  {
   "cell_type": "code",
   "execution_count": 8,
   "id": "7042f05a",
   "metadata": {},
   "outputs": [
    {
     "data": {
      "text/plain": [
       "True"
      ]
     },
     "execution_count": 8,
     "metadata": {},
     "output_type": "execute_result"
    }
   ],
   "source": [
    "'''1. Given an array, check if it contains any duplicates or not.\n",
    "arr = [1, 2, 4, 2, 5, 9]\n",
    "Output = True'''\n",
    "\n",
    "#FUNCTION DEFINITION\n",
    "def check_duplicates(arr):\n",
    "    d = {}\n",
    "    for item in arr:\n",
    "        if item in d:\n",
    "            return True\n",
    "        d[item]=1\n",
    "    return False\n",
    "  \n",
    "#DRIVER CODE\n",
    "arr = [1, 2, 4, 2, 5, 9]\n",
    "    \n",
    "#FUNCTION CALLING\n",
    "check_duplicates(arr)\n",
    "\n",
    "#SPACE COMPLEXITY ---> O(1)\n",
    "#TIME COMPLEXITY --->O(n)"
   ]
  },
  {
   "cell_type": "code",
   "execution_count": 20,
   "id": "a4c29ae5",
   "metadata": {},
   "outputs": [
    {
     "data": {
      "text/plain": [
       "[4, 5, 6, 7, 1, 2, 3]"
      ]
     },
     "execution_count": 20,
     "metadata": {},
     "output_type": "execute_result"
    }
   ],
   "source": [
    "'''2. Given an array and an integer k, rotate the array to the right by k steps.\n",
    "arr = [1, 2, 3, 4, 5, 6, 7] k = 3\n",
    "Output = [5, 6, 7, 1, 2, 3, 4]'''\n",
    "\n",
    "# FUNCTION DEFINITION\n",
    "def rotate_list(arr,k):\n",
    "    l = len(arr)\n",
    "    k = k%l\n",
    "    new_arr = arr[-k:] + arr[:-k]\n",
    "    return new_arr\n",
    "            \n",
    "\n",
    "# DRIVER CODE\n",
    "arr = [1, 2, 3, 4, 5, 6, 7]\n",
    "k = 4\n",
    "\n",
    "# FUNCTION CALLING\n",
    "rotate_list(arr,k)\n",
    "\n",
    "# SPACE COMPLEXITY ----> O(1) \n",
    "# TIME COMPLEXITY ----> O(1)"
   ]
  },
  {
   "cell_type": "code",
   "execution_count": 25,
   "id": "0ab2b582",
   "metadata": {},
   "outputs": [
    {
     "data": {
      "text/plain": [
       "[12, 9, 7, 5, 4, 2]"
      ]
     },
     "execution_count": 25,
     "metadata": {},
     "output_type": "execute_result"
    }
   ],
   "source": [
    "'''3. Reverse the given array in-place, means without using any extra data structure.\n",
    "arr = [2, 4, 5, 7, 9, 12]\n",
    "Output = [12, 9, 7, 5, 4, 2]'''\n",
    "\n",
    "#FUNCTION DEFINITION\n",
    "def reverse_arr(arr):\n",
    "    return arr[::-1]\n",
    "\n",
    "#DRIVER CODE\n",
    "arr = [2, 4, 5, 7, 9, 12]\n",
    "\n",
    "# FUNCTION CALLING\n",
    "reverse_arr(arr)\n",
    "\n",
    "# SPACE COMPLEXITY ----> O(1) \n",
    "# TIME COMPLEXITY ----> O(1)"
   ]
  },
  {
   "cell_type": "code",
   "execution_count": 12,
   "id": "8e821be3",
   "metadata": {},
   "outputs": [
    {
     "data": {
      "text/plain": [
       "20"
      ]
     },
     "execution_count": 12,
     "metadata": {},
     "output_type": "execute_result"
    }
   ],
   "source": [
    "'''4. Given an array of integers, find the maximum element in an array\n",
    "arr = [10, 5, 20, 8, 15]\n",
    "Output = 20'''\n",
    "\n",
    "#FUNCTION DEFINITION\n",
    "def detect_max(arr):\n",
    "    n = len(arr)\n",
    "    max_num = arr[0]\n",
    "    for i in range(n):\n",
    "        if arr[i]>max_num:\n",
    "            max_num=arr[i]\n",
    "    return max_num\n",
    "\n",
    "#DRIVER CODE\n",
    "arr = [10, 5, 20, 8, 15]\n",
    "\n",
    "#FUNCTION CALLING\n",
    "detect_max(arr)\n",
    "\n",
    "#SPACE COMPLEXITY --->O(1)\n",
    "#TIME COMPLEXITY --->O(n)"
   ]
  },
  {
   "cell_type": "code",
   "execution_count": 28,
   "id": "4e6851be",
   "metadata": {},
   "outputs": [
    {
     "data": {
      "text/plain": [
       "[1, 2, 3, 4, 5]"
      ]
     },
     "execution_count": 28,
     "metadata": {},
     "output_type": "execute_result"
    }
   ],
   "source": [
    "'''5. Given a sorted array, remove the duplicate element without using any extra data structure.\n",
    "arr = [1, 1, 2, 2, 2, 3, 3, 4, 4, 4, 5, 5]\n",
    "Output = [1, 2, 3, 4, 5]'''\n",
    "\n",
    "# FUNCTION DEFINITION\n",
    "def remove_duplicate(arr):\n",
    "    if not arr: \n",
    "        return arr\n",
    "    write_index = 0\n",
    "    n = len(arr)\n",
    "    for i in range(1,n):\n",
    "        if arr[i] != arr[write_index]:\n",
    "            write_index += 1\n",
    "            arr[write_index] = arr[i]\n",
    "    return arr[:write_index + 1]\n",
    "    \n",
    "#DRIVER CODE\n",
    "arr = [1, 1, 2, 2, 2, 3, 3, 4, 4, 4, 5, 5]\n",
    "\n",
    "# Function Calling\n",
    "remove_duplicate(arr)\n",
    "\n",
    "#SPACE COMPLEXITY --->O(1)\n",
    "#TIME COMPLEXITY --->O(n)"
   ]
  },
  {
   "cell_type": "code",
   "execution_count": null,
   "id": "c5ad2145",
   "metadata": {},
   "outputs": [],
   "source": []
  },
  {
   "cell_type": "code",
   "execution_count": null,
   "id": "75ab8429",
   "metadata": {},
   "outputs": [],
   "source": []
  },
  {
   "cell_type": "code",
   "execution_count": null,
   "id": "2797a3ed",
   "metadata": {},
   "outputs": [],
   "source": []
  }
 ],
 "metadata": {
  "kernelspec": {
   "display_name": "Python 3 (ipykernel)",
   "language": "python",
   "name": "python3"
  },
  "language_info": {
   "codemirror_mode": {
    "name": "ipython",
    "version": 3
   },
   "file_extension": ".py",
   "mimetype": "text/x-python",
   "name": "python",
   "nbconvert_exporter": "python",
   "pygments_lexer": "ipython3",
   "version": "3.11.3"
  }
 },
 "nbformat": 4,
 "nbformat_minor": 5
}
